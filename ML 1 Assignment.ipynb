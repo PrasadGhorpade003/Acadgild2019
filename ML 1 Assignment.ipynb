{
 "cells": [
  {
   "cell_type": "markdown",
   "metadata": {},
   "source": [
    "# MACHINE LEARNING 1: Assignment 1"
   ]
  },
  {
   "cell_type": "markdown",
   "metadata": {},
   "source": [
    "### 1. What are the three stages to build the hypotheses or model in machine learning?"
   ]
  },
  {
   "cell_type": "markdown",
   "metadata": {},
   "source": [
    "#### a)      Model building\n",
    "\n",
    "#### b)      Model testing\n",
    "\n",
    "#### c)       Applying the model"
   ]
  },
  {
   "cell_type": "markdown",
   "metadata": {},
   "source": [
    "### 2. What is the standard approach to supervised learning?"
   ]
  },
  {
   "cell_type": "markdown",
   "metadata": {},
   "source": [
    "#### Split the set of example into the training set and then test this is the standard approach to supervised learning."
   ]
  },
  {
   "cell_type": "markdown",
   "metadata": {},
   "source": [
    "### 3. What is Training set and Test set?"
   ]
  },
  {
   "cell_type": "markdown",
   "metadata": {},
   "source": [
    "#### Training Set:\n",
    "                     In machine learning, a training set is a dataset used to train a model. In training the model, specific \n",
    "                features are picked out from the training set. These features are then incorporated into the model. Thereby, \n",
    "                if the training set is labeled correctly, the model should be able to learn something from these features.\n",
    "\n",
    "#### Test Set:\n",
    "                    The test set is a dataset used to measure how well the model performs at making predictions on that test \n",
    "                set. If the prediction scores for the test set are unreasonable, we’ll need to make some adjustments to our \n",
    "                model and try again."
   ]
  },
  {
   "cell_type": "markdown",
   "metadata": {},
   "source": [
    "### 4. What is the general principle of an ensemble method and what is bagging and boosting in ensemble method?"
   ]
  },
  {
   "cell_type": "markdown",
   "metadata": {},
   "source": [
    "#### The general principle of an Ensemble method is to combine the predictions of several models built with a given learning algorithm in order to improve robustness over a single model.\n",
    "#### Bagging is a method in ensemble for improving unstable estimation or classification schemes. Bagging both can reduce errors by reducing the variance term.\n",
    "#### Boosting method are used sequentially to reduce the bias of the combined model. Boosting can reduce errors by reducing the variance term."
   ]
  },
  {
   "cell_type": "markdown",
   "metadata": {},
   "source": [
    "### 5. How can you avoid overfitting ?"
   ]
  },
  {
   "cell_type": "markdown",
   "metadata": {},
   "source": [
    "#### If our model does much better on the training set than on the test set, then we’re likely overfitting.\n",
    "#### Here are a few of the most popular solutions for overfitting:\n",
    "#### 1. Cross-validation -\n",
    "                  Cross-validation allows you to tune hyperparameters with only your original training set. This \n",
    "                  allows you to keep your test set as a truly unseen dataset for selecting your final model.\n",
    "#### 2. Train with more data - \n",
    "                  Training with more data can help algorithms detect the signal better.\n",
    "#### 3. Remove features - \n",
    "                  Some algorithms have built-in feature selection just remove them if not necessary. \n",
    "#### 4. Early stopping - \n",
    "                  Up until a certain number of iterations, new iterations improve the model. After that point, however, the \n",
    "                  model’s ability to generalize can weaken as it begins to overfit the training data. Early stopping refers \n",
    "                  stopping the training process before the learner passes that point.\n",
    "#### 5. Regularization - \n",
    "                  Regularization refers to a broad range of techniques for artificially forcing your model to be simpler. \n",
    "                  Oftentimes,the regularization method is hyperparameter as well, which means it can be tuned through cross \n",
    "                  validation.\n",
    "#### 6. Ensembling - \n",
    "                  Ensembles are machine learning methods for combining predictions from multiple separate models. There are\n",
    "                  few different methods for ensembling, but the two most common are: Bagging attempts to reduce the chance \n",
    "                  overfitting complex models.Boosting attempts to improve predictive flexibility of simple models.Bagging \n",
    "                  uses complex base models and tries to \"smooth out\" their prediction,while boosting uses simple base models \n",
    "                  and tries to \"boost\" their aggregate complexity."
   ]
  }
 ],
 "metadata": {
  "kernelspec": {
   "display_name": "Python 3",
   "language": "python",
   "name": "python3"
  },
  "language_info": {
   "codemirror_mode": {
    "name": "ipython",
    "version": 3
   },
   "file_extension": ".py",
   "mimetype": "text/x-python",
   "name": "python",
   "nbconvert_exporter": "python",
   "pygments_lexer": "ipython3",
   "version": "3.7.3"
  }
 },
 "nbformat": 4,
 "nbformat_minor": 2
}
