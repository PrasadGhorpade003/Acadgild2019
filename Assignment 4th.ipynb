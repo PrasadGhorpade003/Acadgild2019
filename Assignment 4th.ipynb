{
 "cells": [
  {
   "cell_type": "markdown",
   "metadata": {},
   "source": [
    "##  Write a Python Program(with class concepts) to find the area of the triangle using the below formula.    \n",
    "## area = (s*(s-a)*(s-b)*(s-c)) ** 0.5"
   ]
  },
  {
   "cell_type": "code",
   "execution_count": 17,
   "metadata": {},
   "outputs": [
    {
     "name": "stdout",
     "output_type": "stream",
     "text": [
      "Enter first side in mm: 2.65\n",
      "Enter second side in mm: 1.36\n",
      "Enter third side in mm: 1.95\n",
      "The area of the triangle is 0.82\n"
     ]
    }
   ],
   "source": [
    "a = float(input('Enter first side in mm: '))\n",
    "b = float(input('Enter second side in mm: '))\n",
    "c = float(input('Enter third side in mm: '))\n",
    " \n",
    "s = (a + b + c) / 2\n",
    " \n",
    "area = (s*(s-a)*(s-b)*(s-c)) *0.5\n",
    "print('The area of the triangle is %0.2f' % area)"
   ]
  },
  {
   "cell_type": "markdown",
   "metadata": {},
   "source": [
    "### Write a function filter_long_words() that takes a list of words and an integer n and returns the list of words that are longer than n."
   ]
  },
  {
   "cell_type": "code",
   "execution_count": 29,
   "metadata": {},
   "outputs": [
    {
     "name": "stdout",
     "output_type": "stream",
     "text": [
      "Write SomethingMy name is Prasad and I am Mechanical Engineer\n",
      "['Prasad', 'Mechanical', 'Engineer']\n"
     ]
    }
   ],
   "source": [
    "def long_words(n, str):\n",
    "    word_len = []\n",
    "    txt = str.split(\" \")\n",
    "    for x in txt:\n",
    "        if len(x) > n:\n",
    "            word_len.append(x)\n",
    "    return word_len\n",
    "print(long_words(4, input (\"Write Something\")))"
   ]
  },
  {
   "cell_type": "markdown",
   "metadata": {},
   "source": [
    "### Write a Python program using function concept that maps list of words into a list of integers representing the lengths of the corresponding words"
   ]
  },
  {
   "cell_type": "code",
   "execution_count": 40,
   "metadata": {},
   "outputs": [
    {
     "name": "stdout",
     "output_type": "stream",
     "text": [
      "[6, 7, 8]\n"
     ]
    }
   ],
   "source": [
    "def mapping(words):\n",
    "    return [len(word) for word in words]\n",
    "\n",
    "if __name__ == \"__main__\":\n",
    "    words = ['Prasad', 'Prakash', 'Ghorpade']\n",
    "    print (mapping(words))"
   ]
  },
  {
   "cell_type": "markdown",
   "metadata": {},
   "source": [
    "### Write a Python function which takes a character (i.e. a string of length 1) and returns True if it is a vowel, False otherwise."
   ]
  },
  {
   "cell_type": "code",
   "execution_count": 59,
   "metadata": {},
   "outputs": [
    {
     "name": "stdout",
     "output_type": "stream",
     "text": [
      "Input a letter of the alphabet: R\n",
      "R is not a vowel.\n"
     ]
    }
   ],
   "source": [
    "l = input(\"Input a letter of the alphabet: \")\n",
    "\n",
    "if l in ('a', 'e', 'i', 'o', 'u','A','E','I','O','U'):\n",
    "    print(\"%s is a vowel.\" % l)\n",
    "else:\n",
    "    print (\"%s is not a vowel.\"%l)"
   ]
  }
 ],
 "metadata": {
  "kernelspec": {
   "display_name": "Python 3",
   "language": "python",
   "name": "python3"
  },
  "language_info": {
   "codemirror_mode": {
    "name": "ipython",
    "version": 3
   },
   "file_extension": ".py",
   "mimetype": "text/x-python",
   "name": "python",
   "nbconvert_exporter": "python",
   "pygments_lexer": "ipython3",
   "version": "3.7.3"
  }
 },
 "nbformat": 4,
 "nbformat_minor": 2
}
