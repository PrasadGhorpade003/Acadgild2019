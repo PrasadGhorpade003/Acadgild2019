{
 "cells": [
  {
   "cell_type": "markdown",
   "metadata": {},
   "source": [
    "# Problem Statement 1:\n",
    "In each of the following situations, state whether it is a correctly stated hypothesis\n",
    "testing problem and why?\n",
    "1. 𝐻0: 𝜇 = 25, 𝐻1: 𝜇 ≠ 25\n",
    "2. 𝐻0: 𝜎 > 10, 𝐻1: 𝜎 = 10\n",
    "3. 𝐻0: 𝑥 = 50, 𝐻1: 𝑥 ≠ 50\n",
    "4. 𝐻0: 𝑝 = 0.1, 𝐻1: 𝑝 = 0.5\n",
    "5. 𝐻0: 𝑠 = 30, 𝐻1: 𝑠 > 30\n"
   ]
  },
  {
   "cell_type": "markdown",
   "metadata": {},
   "source": [
    "### 1. 𝐻0: 𝜇 = 25, 𝐻1: 𝜇 ≠ 25\n",
    "#### Correct\n",
    "        Ho is null and has value of 25, H1 is alternate and dont have value same as 25 which means H1 can be less or more but not equal to H0.\n",
    "        Null will alway have equal sign or value."
   ]
  },
  {
   "cell_type": "markdown",
   "metadata": {},
   "source": [
    "### 2. 𝐻0: 𝜎 > 10, 𝐻1: 𝜎 = 10\n",
    "#### Not Correct\n",
    "        H0 is null and has value of greater than 10, h1 is alternate has value equal to 10, but Null hypothesis doesnt have constant value."
   ]
  },
  {
   "cell_type": "markdown",
   "metadata": {},
   "source": [
    "### 3. 𝐻0: 𝑥 = 50, 𝐻1: 𝑥 ≠ 50\n",
    "#### Correct\n",
    "        H0 and H1 are not same H0 is 50 and H1 is not equal to 50."
   ]
  },
  {
   "cell_type": "markdown",
   "metadata": {},
   "source": [
    "### 4.  𝐻0: 𝑝 = 0.1, 𝐻1: 𝑝 = 0.5\n",
    "#### Not Correct\n",
    "        H0 is null ans have value of 0.1, H1 have value of 0.5 which is not equal to 0.1 but 0.5, but all values without 0.1 should be in H1."
   ]
  },
  {
   "cell_type": "markdown",
   "metadata": {},
   "source": [
    "### 5. 𝐻0: 𝑠 = 30, 𝐻1: 𝑠 > 30\n",
    "#### correct\n",
    "        H0 is null and has value of 30, H1 have value of greater than 30 which is not equal to 30."
   ]
  },
  {
   "cell_type": "markdown",
   "metadata": {},
   "source": [
    "# Problem Statement 2:\n",
    "The college bookstore tells prospective students that the average cost of its textbooks is Rs. 52 with a standard deviation of Rs. 4.50. A group of smart statistics students thinks that the average cost is higher. To test the bookstore’s claim against\n",
    "their alternative, the students will select a random sample of size 100. Assume that the mean from their random sample is Rs. 52.80. Perform a hypothesis test at the 5% level of significance and state your decision.\n"
   ]
  },
  {
   "cell_type": "markdown",
   "metadata": {},
   "source": [
    "'H0 : µ <= 52',\n",
    "\n",
    "'H1 : µ > 52.80',\n",
    "\n",
    "'α = 0.05',\n",
    "\n",
    "Reject H0 if z>1.645Z =(52.8-52)/(4.50/√100) = 1.78\n",
    "\n",
    "Reject H0; conclude that the average cost of textbooks is statistically significantly higher than the bookstore’s claim.\n",
    "\n",
    "p = P(z>1.78) = .5 - .4625 = 0.0375 (Note that this is close to the significance level, so it is not very, very strong evidence against the null hypothesis.)"
   ]
  },
  {
   "cell_type": "markdown",
   "metadata": {},
   "source": [
    "# Problem Statement 3:\n",
    "A certain chemical pollutant in the Genesee River has been constant for several years with mean μ = 34 ppm (parts per million) and standard deviation σ = 8 ppm. A group of factory representatives whose companies discharge liquids into the river is now claiming that they have lowered the average with improved filtration devices. A group of environmentalists will test to see if this is true at the 1% level of significance. Assume \\ that their sample of size 50 gives a mean of 32.5 ppm. Perform a hypothesis test at the 1% level of significance and state your decision."
   ]
  },
  {
   "cell_type": "markdown",
   "metadata": {},
   "source": [
    "* H0: M=34ppm\n",
    "* H1: M<34ppm"
   ]
  },
  {
   "cell_type": "code",
   "execution_count": 7,
   "metadata": {},
   "outputs": [],
   "source": [
    "σ = 8\n",
    "n = 50\n",
    "x = 32.5"
   ]
  },
  {
   "cell_type": "code",
   "execution_count": 9,
   "metadata": {},
   "outputs": [
    {
     "data": {
      "text/plain": [
       "-1.3258252147247767"
      ]
     },
     "execution_count": 9,
     "metadata": {},
     "output_type": "execute_result"
    }
   ],
   "source": [
    "Z= (x-34)/(8/50**0.5)\n",
    "Z"
   ]
  },
  {
   "cell_type": "markdown",
   "metadata": {},
   "source": [
    "#### from Z score table for 1% and -1.32 value is 0.0934 which gives probability of 9.34%, which is more than 1% so test fails."
   ]
  },
  {
   "cell_type": "markdown",
   "metadata": {},
   "source": [
    "# Problem Statement 4:\n",
    "Based on population figures and other general information on the U.S. population, suppose it has been estimated that, on average, a family of four in the U.S. spends about $1135 annually on dental expenditures. Suppose further that a regional dental association wants to test to determine if this figure is accurate for their area of country. To test this, 22 families of 4 are randomly selected from the population in that area of the country and a log is kept of the family’s dental expenditure for one year. The resulting data are given below. Assuming, that dental expenditure is normally distributed in the population, use the data and an alpha of 0.5 to test the dental association’s hypothesis.\n",
    "\n",
    "1008, 812, 1117, 1323, 1308, 1415, 831, 1021, 1287, 851, 930, 730, 699,\n",
    "872, 913, 944, 954, 987, 1695, 995, 1003, 994"
   ]
  },
  {
   "cell_type": "code",
   "execution_count": 23,
   "metadata": {},
   "outputs": [],
   "source": [
    "# H0=1135\n",
    "# H1!=1135\n",
    "import pandas as pd\n",
    "import numpy as np\n",
    "import math as m\n",
    "import scipy.stats\n",
    "import matplotlib.pyplot as plt\n",
    "from scipy import stats\n",
    "from scipy.stats import binom\n",
    "from scipy.stats import chisquare\n",
    "import statistics as st"
   ]
  },
  {
   "cell_type": "code",
   "execution_count": 24,
   "metadata": {},
   "outputs": [
    {
     "data": {
      "text/plain": [
       "(1008,\n",
       " 812,\n",
       " 1117,\n",
       " 1323,\n",
       " 1308,\n",
       " 1415,\n",
       " 831,\n",
       " 1021,\n",
       " 1287,\n",
       " 851,\n",
       " 930,\n",
       " 730,\n",
       " 699,\n",
       " 872,\n",
       " 913,\n",
       " 944,\n",
       " 954,\n",
       " 987,\n",
       " 1695,\n",
       " 995,\n",
       " 1003,\n",
       " 994)"
      ]
     },
     "execution_count": 24,
     "metadata": {},
     "output_type": "execute_result"
    }
   ],
   "source": [
    "A=(1008, 812, 1117, 1323, 1308, 1415, 831, 1021, 1287, 851, 930, 730, 699, 872, 913, 944, 954, 987, 1695, 995, 1003, 994)\n",
    "n=22\n",
    "A"
   ]
  },
  {
   "cell_type": "code",
   "execution_count": 25,
   "metadata": {},
   "outputs": [
    {
     "data": {
      "text/plain": [
       "240.3745859246388"
      ]
     },
     "execution_count": 25,
     "metadata": {},
     "output_type": "execute_result"
    }
   ],
   "source": [
    "st.stdev(A)"
   ]
  },
  {
   "cell_type": "code",
   "execution_count": 39,
   "metadata": {},
   "outputs": [
    {
     "data": {
      "text/plain": [
       "1031.3181818181818"
      ]
     },
     "execution_count": 39,
     "metadata": {},
     "output_type": "execute_result"
    }
   ],
   "source": [
    "Avg=(1008+ 812+ 1117+ 1323+ 1308+ 1415+ 831+ 1021+ 1287+ 851+ 930+ 730+ 699+ 872+ 913+ 944+ 954+ 987+ 1695+ 995+ 1003+ 994)/22\n",
    "Avg"
   ]
  },
  {
   "cell_type": "code",
   "execution_count": 38,
   "metadata": {},
   "outputs": [
    {
     "data": {
      "text/plain": [
       "1031.3181818181818"
      ]
     },
     "execution_count": 38,
     "metadata": {},
     "output_type": "execute_result"
    }
   ],
   "source": [
    "np.mean(A)"
   ]
  },
  {
   "cell_type": "code",
   "execution_count": 30,
   "metadata": {},
   "outputs": [],
   "source": [
    "from scipy.stats import zscore"
   ]
  },
  {
   "cell_type": "code",
   "execution_count": 34,
   "metadata": {},
   "outputs": [
    {
     "data": {
      "text/plain": [
       "array([-0.09929053, -0.93387292,  0.36483947,  1.24200259,  1.17813149,\n",
       "        1.63374535, -0.85296952, -0.04393558,  1.08871195, -0.76780805,\n",
       "       -0.43142026, -1.28303494, -1.41503521, -0.67838851, -0.5038075 ,\n",
       "       -0.37180723, -0.32922649, -0.18871007,  2.8260059 , -0.15464548,\n",
       "       -0.1205809 , -0.15890356])"
      ]
     },
     "execution_count": 34,
     "metadata": {},
     "output_type": "execute_result"
    }
   ],
   "source": [
    "B=zscore(A)\n",
    "B"
   ]
  },
  {
   "cell_type": "code",
   "execution_count": 46,
   "metadata": {},
   "outputs": [
    {
     "data": {
      "text/plain": [
       "2.6620120249535006e-16"
      ]
     },
     "execution_count": 46,
     "metadata": {},
     "output_type": "execute_result"
    }
   ],
   "source": [
    "np.mean(B)"
   ]
  }
 ],
 "metadata": {
  "kernelspec": {
   "display_name": "Python 3",
   "language": "python",
   "name": "python3"
  },
  "language_info": {
   "codemirror_mode": {
    "name": "ipython",
    "version": 3
   },
   "file_extension": ".py",
   "mimetype": "text/x-python",
   "name": "python",
   "nbconvert_exporter": "python",
   "pygments_lexer": "ipython3",
   "version": "3.7.3"
  }
 },
 "nbformat": 4,
 "nbformat_minor": 2
}
