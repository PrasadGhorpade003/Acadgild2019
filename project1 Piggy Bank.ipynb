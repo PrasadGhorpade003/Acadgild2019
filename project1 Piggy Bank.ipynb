{
 "cells": [
  {
   "cell_type": "markdown",
   "metadata": {},
   "source": [
    "# Piggy Bank Software"
   ]
  },
  {
   "cell_type": "code",
   "execution_count": 84,
   "metadata": {},
   "outputs": [],
   "source": [
    "class Piggy_Bank: \n",
    "    def __init__(self): \n",
    "        self.balance=0\n",
    "        print(\"Hello!!! Welcome to the Deposit & Withdrawal Machine\") \n",
    "  \n",
    "    def deposit(self): \n",
    "        amount=float(input(\"Enter amount to be Deposited: \")) \n",
    "        self.balance += amount \n",
    "        print(\"\\n Amount Deposited:\",amount) \n",
    "  \n",
    "    def withdraw(self): \n",
    "        amount = float(input(\"Enter amount to be Withdrawn: \")) \n",
    "        if amount%100!=0:\n",
    "            print (\"Please enter the amount in multiples of 100\")\n",
    "        elif self.balance>=amount: \n",
    "            self.balance-=amount \n",
    "            print(\"\\n You Withdrew:\", amount) \n",
    "        else: \n",
    "            print(\"\\n Insufficient balance  \") \n",
    "  \n",
    "    def get_balance(self): \n",
    "        print(\"\\n Net Available Balance=\",self.balance)\n",
    "        "
   ]
  },
  {
   "cell_type": "code",
   "execution_count": 85,
   "metadata": {},
   "outputs": [
    {
     "name": "stdout",
     "output_type": "stream",
     "text": [
      "Hello!!! Welcome to the Deposit & Withdrawal Machine\n"
     ]
    }
   ],
   "source": [
    "Prasad=Piggy_Bank()"
   ]
  },
  {
   "cell_type": "code",
   "execution_count": 87,
   "metadata": {},
   "outputs": [
    {
     "name": "stdout",
     "output_type": "stream",
     "text": [
      "\n",
      " Net Available Balance= 0\n"
     ]
    }
   ],
   "source": [
    "Prasad.get_balance()"
   ]
  },
  {
   "cell_type": "code",
   "execution_count": 88,
   "metadata": {},
   "outputs": [
    {
     "name": "stdout",
     "output_type": "stream",
     "text": [
      "Enter amount to be Deposited: 150000\n",
      "\n",
      " Amount Deposited: 150000.0\n"
     ]
    }
   ],
   "source": [
    "Prasad.deposit()"
   ]
  },
  {
   "cell_type": "code",
   "execution_count": 89,
   "metadata": {},
   "outputs": [
    {
     "name": "stdout",
     "output_type": "stream",
     "text": [
      "\n",
      " Net Available Balance= 150000.0\n"
     ]
    }
   ],
   "source": [
    "Prasad.get_balance()"
   ]
  },
  {
   "cell_type": "code",
   "execution_count": 90,
   "metadata": {},
   "outputs": [
    {
     "name": "stdout",
     "output_type": "stream",
     "text": [
      "Enter amount to be Withdrawn: 5542\n",
      "Please enter the amount in multiples of 100\n"
     ]
    }
   ],
   "source": [
    "Prasad.withdraw()"
   ]
  },
  {
   "cell_type": "code",
   "execution_count": 95,
   "metadata": {},
   "outputs": [
    {
     "name": "stdout",
     "output_type": "stream",
     "text": [
      "Enter amount to be Withdrawn: 12000\n",
      "\n",
      " You Withdrew: 12000.0\n"
     ]
    }
   ],
   "source": [
    "Prasad.withdraw()"
   ]
  },
  {
   "cell_type": "code",
   "execution_count": 96,
   "metadata": {},
   "outputs": [
    {
     "name": "stdout",
     "output_type": "stream",
     "text": [
      "\n",
      " Net Available Balance= 123800.0\n"
     ]
    }
   ],
   "source": [
    "Prasad.get_balance()"
   ]
  },
  {
   "cell_type": "code",
   "execution_count": 98,
   "metadata": {},
   "outputs": [
    {
     "name": "stdout",
     "output_type": "stream",
     "text": [
      "Enter amount to be Withdrawn: 130000\n",
      "\n",
      " Insufficient balance  \n"
     ]
    }
   ],
   "source": [
    "Prasad.withdraw()"
   ]
  }
 ],
 "metadata": {
  "kernelspec": {
   "display_name": "Python 3",
   "language": "python",
   "name": "python3"
  },
  "language_info": {
   "codemirror_mode": {
    "name": "ipython",
    "version": 3
   },
   "file_extension": ".py",
   "mimetype": "text/x-python",
   "name": "python",
   "nbconvert_exporter": "python",
   "pygments_lexer": "ipython3",
   "version": "3.7.3"
  }
 },
 "nbformat": 4,
 "nbformat_minor": 2
}
