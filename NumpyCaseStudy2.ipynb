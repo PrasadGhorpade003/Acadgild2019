{
 "cells": [
  {
   "cell_type": "markdown",
   "metadata": {},
   "source": [
    "# This case study consists of 1000 marks and the solution file is expected to be submitted in the upcoming session for evaluation."
   ]
  },
  {
   "cell_type": "code",
   "execution_count": 1,
   "metadata": {},
   "outputs": [],
   "source": [
    "import numpy as np"
   ]
  },
  {
   "cell_type": "markdown",
   "metadata": {},
   "source": [
    "### 1.Create two matrices of 3*3 and perform the arithmatic operations metioned in below \"print\" statements"
   ]
  },
  {
   "cell_type": "code",
   "execution_count": 90,
   "metadata": {},
   "outputs": [
    {
     "name": "stdout",
     "output_type": "stream",
     "text": [
      "\n",
      "1st Matrix of random single-digit numbers\n",
      "----------------------------------------\n",
      " [[0 1 2]\n",
      " [3 4 5]\n",
      " [6 7 8]]\n",
      "\n",
      "2nd Matrix of random single-digit numbers\n",
      "----------------------------------------\n",
      " [[10 11 12]\n",
      " [13 14 15]\n",
      " [16 17 18]]\n",
      "\n",
      "Addition\n",
      "------------------\n",
      " [[10 12 14]\n",
      " [16 18 20]\n",
      " [22 24 26]]\n",
      "\n",
      "Multiplication\n",
      "------------------\n",
      " [[ 0  3  6]\n",
      " [ 9 12 15]\n",
      " [18 21 24]]\n",
      "\n",
      "Exponentiation, matrix cubed here\n",
      "----------------------------------------\n",
      " [[  0   1   8]\n",
      " [ 27  64 125]\n",
      " [216 343 512]]\n"
     ]
    }
   ],
   "source": [
    "mat1 = np.arange(0,9).reshape(3,3)\n",
    "mat2 = np.arange(10,19).reshape(3,3)\n",
    "print(\"\\n1st Matrix of random single-digit numbers\\n----------------------------------------\\n\",mat1)\n",
    "print(\"\\n2nd Matrix of random single-digit numbers\\n----------------------------------------\\n\",mat2)\n",
    "\n",
    "\n",
    "print(\"\\nAddition\\n------------------\\n\", mat1 + mat2)\n",
    "print(\"\\nMultiplication\\n------------------\\n\", mat1*3)\n",
    "\n",
    "print(\"\\nExponentiation, matrix cubed here\\n----------------------------------------\\n\", np.power(mat1,3))\n"
   ]
  },
  {
   "cell_type": "markdown",
   "metadata": {},
   "source": [
    "Some operations, such as += and *=, act in place to modify an existing array rather than create a new one."
   ]
  },
  {
   "cell_type": "markdown",
   "metadata": {},
   "source": [
    "NumPy provides familiar mathematical functions such as sin, cos, and exp. In NumPy, these are called “universal functions”(ufunc). Within NumPy, these functions operate elementwise on an array, producing an array as output."
   ]
  },
  {
   "cell_type": "markdown",
   "metadata": {},
   "source": [
    "### 2.Create two 3 * 3 matrices and perform the following operations as describe in print statement."
   ]
  },
  {
   "cell_type": "code",
   "execution_count": 86,
   "metadata": {
    "scrolled": true
   },
   "outputs": [
    {
     "name": "stdout",
     "output_type": "stream",
     "text": [
      "\n",
      "1st Matrix of random single-digit numbers\n",
      " -------------------------------------------------- \n",
      " [[45  0 33]\n",
      " [44 14 43]\n",
      " [40 27 11]]\n",
      "\n",
      "2nd Matrix of random single-digit numbers\n",
      " -------------------------------------------------- \n",
      " [[ 9 18 13]\n",
      " [22 40 30]\n",
      " [16 31 37]]\n",
      "\n",
      "Sum of all numbers in 1st matrix\n",
      " -------------------------------------------------- \n",
      " 257\n",
      "\n",
      "Sum of all numbers in columns of 1st matrix\n",
      " -------------------------------------------------- \n",
      " [129  41  87]\n",
      "\n",
      "Sum of all numbers in rows of 1st matrix\n",
      " -------------------------------------------------- \n",
      " [ 78 101  78]\n",
      "\n",
      "Mean of all numbers in 1st matrix\n",
      " -------------------------------------------------- \n",
      " 28.555555555555557\n",
      "\n",
      "Standard deviation of all numbers in 1st matrix\n",
      " -------------------------------------------------- \n",
      " 15.656813292274254\n",
      "\n",
      "Modified matrix of random numbers from 1 to 99\n",
      " -------------------------------------------------- \n",
      " [[96 65 33]\n",
      " [69 46 97]\n",
      " [64 24 20]]\n",
      "\n",
      "Standard deviation of all numbers in the modified matrix, a larger number\n",
      " -------------------------------------------------------------------------------- \n",
      " 26.942096117597767\n",
      "\n",
      "Variance of all numbers in the modified matrix, a larger number\n",
      " -------------------------------------------------------------------------------- \n",
      " 725.8765432098767\n",
      "\n",
      "Median of all numbers in the modified matrix\n",
      " ------------------------------------------------------------ \n",
      " 64.0\n"
     ]
    }
   ],
   "source": [
    "from numpy.random import randint as ri\n",
    "mat1 = np.random.randint(50, size=(3,3))\n",
    "mat2 = np.random.randint(50, size=(3,3))\n",
    "print(\"\\n1st Matrix of random single-digit numbers\\n\",\"-\"*50,\"\\n\",mat1)\n",
    "print(\"\\n2nd Matrix of random single-digit numbers\\n\",\"-\"*50,\"\\n\",mat2)\n",
    "\n",
    "\n",
    "print(\"\\nSum of all numbers in 1st matrix\\n\",\"-\"*50,\"\\n\",np.sum(mat1))\n",
    "print(\"\\nSum of all numbers in columns of 1st matrix\\n\",\"-\"*50,\"\\n\",mat1.sum(axis=0))\n",
    "\n",
    "\n",
    "print(\"\\nSum of all numbers in rows of 1st matrix\\n\",\"-\"*50,\"\\n\",mat1.sum(axis=1))\n",
    "print(\"\\nMean of all numbers in 1st matrix\\n\",\"-\"*50,\"\\n\",mat1.mean())\n",
    "\n",
    "\n",
    "print(\"\\nStandard deviation of all numbers in 1st matrix\\n\",\"-\"*50,\"\\n\",mat1.std())\n",
    "\n",
    "\n",
    "mat1 =  np.random.randint(99, size=(3,3))\n",
    "print(\"\\nModified matrix of random numbers from 1 to 99\\n\",\"-\"*50,\"\\n\",mat1)\n",
    "\n",
    "\n",
    "print(\"\\nStandard deviation of all numbers in the modified matrix, a larger number\\n\",\"-\"*80,\"\\n\",mat1.std())\n",
    "\n",
    "\n",
    "print(\"\\nVariance of all numbers in the modified matrix, a larger number\\n\",\"-\"*80,\"\\n\",mat1.var())\n",
    "\n",
    "\n",
    "print(\"\\nMedian of all numbers in the modified matrix\\n\",\"-\"*60,\"\\n\",np.median(mat1))\n"
   ]
  },
  {
   "cell_type": "markdown",
   "metadata": {},
   "source": [
    "###  3.Create a 3 \\* 3 Matrix and Modify its shape to 9\\*1 matrix."
   ]
  },
  {
   "cell_type": "code",
   "execution_count": 46,
   "metadata": {},
   "outputs": [
    {
     "data": {
      "text/plain": [
       "array([[ 2,  3,  4],\n",
       "       [ 5,  6,  7],\n",
       "       [ 8,  9, 10]])"
      ]
     },
     "execution_count": 46,
     "metadata": {},
     "output_type": "execute_result"
    }
   ],
   "source": [
    "##Solution\n",
    "A=np.arange(2, 11).reshape(3,3)\n",
    "A"
   ]
  },
  {
   "cell_type": "code",
   "execution_count": 47,
   "metadata": {},
   "outputs": [
    {
     "data": {
      "text/plain": [
       "array([[ 2],\n",
       "       [ 3],\n",
       "       [ 4],\n",
       "       [ 5],\n",
       "       [ 6],\n",
       "       [ 7],\n",
       "       [ 8],\n",
       "       [ 9],\n",
       "       [10]])"
      ]
     },
     "execution_count": 47,
     "metadata": {},
     "output_type": "execute_result"
    }
   ],
   "source": [
    "A.reshape(9,1)"
   ]
  },
  {
   "cell_type": "markdown",
   "metadata": {},
   "source": [
    "### 4.Sort"
   ]
  },
  {
   "cell_type": "code",
   "execution_count": 61,
   "metadata": {},
   "outputs": [
    {
     "name": "stdout",
     "output_type": "stream",
     "text": [
      "\n",
      "Vector of 10 random integers from 1 to 100\n",
      " -------------------------------------------------- \n",
      " [94 11 39 87 84 61 59 10 21 74]\n",
      "\n",
      "Here is the sorted vector\n",
      " -------------------------------------------------- \n",
      " [10 11 21 39 59 61 74 84 87 94]\n"
     ]
    }
   ],
   "source": [
    "A = np.random.randint(0,101,10) # Vector of random interegrs\n",
    "print(\"\\nVector of 10 random integers from 1 to 100\\n\",'-'*50,\"\\n\",A)\n",
    "print(\"\\nHere is the sorted vector\\n\",'-'*50,\"\\n\",np.sort(A))\n"
   ]
  },
  {
   "cell_type": "code",
   "execution_count": 73,
   "metadata": {},
   "outputs": [
    {
     "name": "stdout",
     "output_type": "stream",
     "text": [
      "\n",
      "5x5 Matrix of random integers\n",
      " -------------------------------------------------- \n",
      " [[14 17  9  4 20]\n",
      " [23 19 11 15 16]\n",
      " [ 6 15 24  4  2]\n",
      " [12 11 10  7 21]\n",
      " [12  2  4  7 12]]\n",
      "\n",
      "Here is the sorted matrix along each row\n",
      " -------------------------------------------------- \n",
      " [[ 4  9 14 17 20]\n",
      " [11 15 16 19 23]\n",
      " [ 2  4  6 15 24]\n",
      " [ 7 10 11 12 21]\n",
      " [ 2  4  7 12 12]]\n",
      "\n",
      "Here is the sorted matrix along each column\n",
      " -------------------------------------------------- \n",
      " [[ 6  2  4  4  2]\n",
      " [12 11  9  4 12]\n",
      " [12 15 10  7 16]\n",
      " [14 17 11  7 20]\n",
      " [23 19 24 15 21]]\n"
     ]
    }
   ],
   "source": [
    "M = np.random.randint(25, size=(5,5)) #  5*5 Matrix of random interegrs\n",
    "print(\"\\n5x5 Matrix of random integers\\n\",'-'*50,\"\\n\",M)\n",
    "print(\"\\nHere is the sorted matrix along each row\\n\",'-'*50,\"\\n\",np.sort(M,axis=1)) # Default axis =1\n",
    "print(\"\\nHere is the sorted matrix along each column\\n\",'-'*50,\"\\n\",np.sort(M,axis=0))"
   ]
  },
  {
   "cell_type": "markdown",
   "metadata": {},
   "source": [
    "### 5.Create a,b,c  10 element vectors of random integers and perform the respective operation mentioned in print statement"
   ]
  },
  {
   "cell_type": "code",
   "execution_count": 102,
   "metadata": {},
   "outputs": [
    {
     "name": "stdout",
     "output_type": "stream",
     "text": [
      "a: [[2 1 4 0 0 5 1 5 2 4]]\n",
      "b: [[19  5 14 16 15  0  1  1  0  5]]\n",
      "c: [[15 17  2  7  1  7 11  2 16 16]]\n",
      "Max of a: 5\n",
      "Max of b: 19\n",
      "Max of a location: 5\n",
      "Max of b location: 0\n",
      "Max of c location: 1\n",
      "Max of a: 5\n",
      "Max of b: 19\n",
      "Max of a location: 5\n",
      "Max of b location: 0\n",
      "Max of c location: 1\n"
     ]
    }
   ],
   "source": [
    "# Fill the following ***** with appropriate solution.\n",
    "a=np.random.randint(10,size=(1,10))\n",
    "b=np.random.randint(20, size=(1,10))\n",
    "c=np.random.randint(20, size=(1,10))\n",
    "\n",
    "print(\"a:\", a)\n",
    "print(\"b:\", b)\n",
    "print(\"c:\", c)\n",
    "\n",
    "print(\"Max of a:\", np.amax(a))\n",
    "print(\"Max of b:\",np.amax(b))\n",
    "\n",
    "\n",
    "print(\"Max of a location:\", np.argmax(a))\n",
    "print(\"Max of b location:\", np.argmax(b))\n",
    "print(\"Max of c location:\", np.argmax(c))\n",
    "\n",
    "print(\"Max of a:\", np.amax(a))\n",
    "print(\"Max of b:\", np.amax(b))\n",
    "\n",
    "\n",
    "print(\"Max of a location:\", np.argmax(a))\n",
    "print(\"Max of b location:\", np.argmax(b))\n",
    "print(\"Max of c location:\", np.argmax(c))\n",
    "\n"
   ]
  },
  {
   "cell_type": "markdown",
   "metadata": {},
   "source": [
    "## Universal functions\n",
    "\n",
    "6. Create 3*3 matrices of random single-digit numbers.<br/>\n",
    "Apply universal functions on it. (square root,exponetial,log10,Modulo etc.)"
   ]
  },
  {
   "cell_type": "code",
   "execution_count": 113,
   "metadata": {},
   "outputs": [
    {
     "name": "stdout",
     "output_type": "stream",
     "text": [
      "\n",
      "1st Matrix of random single-digit numbers\n",
      "----------------------------------------\n",
      " [[5 5 2]\n",
      " [5 5 5]\n",
      " [3 1 2]]\n",
      "\n",
      "2nd Matrix of random single-digit numbers\n",
      "----------------------------------------\n",
      " [[8 5 6]\n",
      " [7 7 4]\n",
      " [8 8 6]]\n",
      "\n",
      "Sq-root of 1st matrix using np\n",
      "------------------\n",
      " [[2.23606798 2.23606798 1.41421356]\n",
      " [2.23606798 2.23606798 2.23606798]\n",
      " [1.73205081 1.         1.41421356]]\n",
      "\n",
      "Exponential power of 1st matrix using np\n",
      " -------------------------------------------------- \n",
      " [[148.4131591  148.4131591    7.3890561 ]\n",
      " [148.4131591  148.4131591  148.4131591 ]\n",
      " [ 20.08553692   2.71828183   7.3890561 ]]\n",
      "\n",
      "10-base logarithm on 1st matrix using np\n",
      " -------------------------------------------------- \n",
      " [[0.69897    0.69897    0.30103   ]\n",
      " [0.69897    0.69897    0.69897   ]\n",
      " [0.47712125 0.         0.30103   ]]\n",
      "\n",
      "Modulo reminder using np\n",
      " -------------------------------------------------- \n",
      " [[5 0 2]\n",
      " [5 5 1]\n",
      " [3 1 2]]\n"
     ]
    }
   ],
   "source": [
    "\n",
    "mat1 = np.random.randint(9, size=(3,3))\n",
    "mat2 = np.random.randint(9, size=(3,3))\n",
    "print(\"\\n1st Matrix of random single-digit numbers\\n----------------------------------------\\n\",mat1)\n",
    "print(\"\\n2nd Matrix of random single-digit numbers\\n----------------------------------------\\n\",mat2)\n",
    "\n",
    "\n",
    "print(\"\\nSq-root of 1st matrix using np\\n------------------\\n\", np.sqrt(mat1))\n",
    "\n",
    "\n",
    "print(\"\\nExponential power of 1st matrix using np\\n\",'-'*50,\"\\n\", np.exp(mat1))\n",
    "\n",
    "\n",
    "print(\"\\n10-base logarithm on 1st matrix using np\\n\",'-'*50,\"\\n\", np.log10(mat1))\n",
    "\n",
    "\n",
    "print(\"\\nModulo reminder using np\\n\",'-'*50,\"\\n\", np.mod(mat1,mat2))\n"
   ]
  },
  {
   "cell_type": "markdown",
   "metadata": {},
   "source": [
    "### 7.Generating matrices from distributions"
   ]
  },
  {
   "cell_type": "code",
   "execution_count": 114,
   "metadata": {},
   "outputs": [
    {
     "ename": "SyntaxError",
     "evalue": "invalid syntax (<ipython-input-114-1e06a80e2839>, line 6)",
     "output_type": "error",
     "traceback": [
      "\u001b[1;36m  File \u001b[1;32m\"<ipython-input-114-1e06a80e2839>\"\u001b[1;36m, line \u001b[1;32m6\u001b[0m\n\u001b[1;33m    print(******)\u001b[0m\n\u001b[1;37m             ^\u001b[0m\n\u001b[1;31mSyntaxError\u001b[0m\u001b[1;31m:\u001b[0m invalid syntax\n"
     ]
    }
   ],
   "source": [
    "\n",
    "print(\"Random number generation (from Uniform distribution)\")\n",
    "print(np.random.randint(1, size=(2,3))) # 2 by 3 matrix with random numbers ranging from 0 to 1, Note no Tuple is necessary \n",
    "\n",
    "print(\"Numbers from Normal distribution with zero mean and standard deviation 1 i.e. standard normal\")\n",
    "print(******)\n",
    "\n",
    "print(\"Random integer vector:\",np.random.randint(1,100,10)) #randint (low, high, # of samples to be drawn)\n",
    "print (\"\\nRandom integer matrix\")\n",
    "print(********) #randint (low, high, # of samples to be drawn in a tuple to form a matrix)\n",
    "\n",
    "print(\"\\n20 samples drawn from a dice throw:\",*******) # 20 samples drawn from a dice throw"
   ]
  },
  {
   "cell_type": "markdown",
   "metadata": {},
   "source": [
    "### 8.Find the nearest value from a given number in an array using NumPy."
   ]
  },
  {
   "cell_type": "code",
   "execution_count": 21,
   "metadata": {},
   "outputs": [
    {
     "name": "stdout",
     "output_type": "stream",
     "text": [
      "4.859577122593637\n"
     ]
    }
   ],
   "source": [
    "#Steps\n",
    "#Create an array of 5 random element from 1 to 12\n",
    "#Suppose find the nearest values of 10 in an array so set value=10\n",
    "#find the index where difference is minimum and get the element"
   ]
  },
  {
   "cell_type": "markdown",
   "metadata": {},
   "source": [
    "### 9.Write code using numpy to produce following output\n",
    "[[0 0 0] [0 1 2] [0 2 4]]"
   ]
  },
  {
   "cell_type": "code",
   "execution_count": null,
   "metadata": {},
   "outputs": [],
   "source": []
  }
 ],
 "metadata": {
  "kernelspec": {
   "display_name": "Python 3",
   "language": "python",
   "name": "python3"
  },
  "language_info": {
   "codemirror_mode": {
    "name": "ipython",
    "version": 3
   },
   "file_extension": ".py",
   "mimetype": "text/x-python",
   "name": "python",
   "nbconvert_exporter": "python",
   "pygments_lexer": "ipython3",
   "version": "3.7.3"
  }
 },
 "nbformat": 4,
 "nbformat_minor": 2
}
